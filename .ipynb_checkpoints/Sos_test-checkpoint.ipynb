{
 "cells": [
  {
   "cell_type": "code",
   "execution_count": 2,
   "metadata": {
    "ExecuteTime": {
     "end_time": "2019-12-05T10:15:16.895029Z",
     "start_time": "2019-12-05T10:15:16.789Z"
    },
    "kernel": "R"
   },
   "outputs": [],
   "source": [
    "a = 1\n",
    "b = c(1, 2)"
   ]
  },
  {
   "cell_type": "code",
   "execution_count": 2,
   "metadata": {
    "ExecuteTime": {
     "end_time": "2019-12-05T09:57:28.949777Z",
     "start_time": "2019-12-05T09:57:21.352Z"
    },
    "kernel": "SoS"
   },
   "outputs": [],
   "source": [
    "%get a --from R"
   ]
  },
  {
   "cell_type": "code",
   "execution_count": 3,
   "metadata": {
    "ExecuteTime": {
     "end_time": "2019-12-05T09:57:28.983877Z",
     "start_time": "2019-12-05T09:57:21.354Z"
    },
    "kernel": "SoS"
   },
   "outputs": [
    {
     "data": {
      "text/plain": [
       "1"
      ]
     },
     "execution_count": 3,
     "metadata": {},
     "output_type": "execute_result"
    }
   ],
   "source": [
    "a"
   ]
  },
  {
   "cell_type": "code",
   "execution_count": 4,
   "metadata": {
    "ExecuteTime": {
     "end_time": "2019-12-05T09:57:32.682609Z",
     "start_time": "2019-12-05T09:57:21.356Z"
    },
    "kernel": "Python3"
   },
   "outputs": [],
   "source": [
    "%put df --to R\n",
    "\n",
    "import pandas as pd\n",
    "\n",
    "df = pd.DataFrame({'num_legs': [2, 4, 8, 0],\n",
    "                   'num_wings': [2, 0, 0, 0],\n",
    "                   'num_specimen_seen': [10, 2, 1, 8]},\n",
    "             index=['falcon', 'dog', 'spider', 'fish'])"
   ]
  },
  {
   "cell_type": "code",
   "execution_count": 5,
   "metadata": {
    "ExecuteTime": {
     "end_time": "2019-12-05T09:57:39.037904Z",
     "start_time": "2019-12-05T09:57:38.962Z"
    },
    "kernel": "R"
   },
   "outputs": [
    {
     "data": {
      "text/html": [
       "<table>\n",
       "<caption>A data.frame: 4 × 3</caption>\n",
       "<thead>\n",
       "\t<tr><th></th><th scope=col>num_legs</th><th scope=col>num_wings</th><th scope=col>num_specimen_seen</th></tr>\n",
       "\t<tr><th></th><th scope=col>&lt;dbl&gt;</th><th scope=col>&lt;dbl&gt;</th><th scope=col>&lt;dbl&gt;</th></tr>\n",
       "</thead>\n",
       "<tbody>\n",
       "\t<tr><th scope=row>falcon</th><td>2</td><td>2</td><td>10</td></tr>\n",
       "\t<tr><th scope=row>dog</th><td>4</td><td>0</td><td> 2</td></tr>\n",
       "\t<tr><th scope=row>spider</th><td>8</td><td>0</td><td> 1</td></tr>\n",
       "\t<tr><th scope=row>fish</th><td>0</td><td>0</td><td> 8</td></tr>\n",
       "</tbody>\n",
       "</table>\n"
      ],
      "text/latex": [
       "A data.frame: 4 × 3\n",
       "\\begin{tabular}{r|lll}\n",
       "  & num\\_legs & num\\_wings & num\\_specimen\\_seen\\\\\n",
       "  & <dbl> & <dbl> & <dbl>\\\\\n",
       "\\hline\n",
       "\tfalcon & 2 & 2 & 10\\\\\n",
       "\tdog & 4 & 0 &  2\\\\\n",
       "\tspider & 8 & 0 &  1\\\\\n",
       "\tfish & 0 & 0 &  8\\\\\n",
       "\\end{tabular}\n"
      ],
      "text/markdown": [
       "\n",
       "A data.frame: 4 × 3\n",
       "\n",
       "| <!--/--> | num_legs &lt;dbl&gt; | num_wings &lt;dbl&gt; | num_specimen_seen &lt;dbl&gt; |\n",
       "|---|---|---|---|\n",
       "| falcon | 2 | 2 | 10 |\n",
       "| dog | 4 | 0 |  2 |\n",
       "| spider | 8 | 0 |  1 |\n",
       "| fish | 0 | 0 |  8 |\n",
       "\n"
      ],
      "text/plain": [
       "       num_legs num_wings num_specimen_seen\n",
       "falcon 2        2         10               \n",
       "dog    4        0          2               \n",
       "spider 8        0          1               \n",
       "fish   0        0          8               "
      ]
     },
     "metadata": {},
     "output_type": "display_data"
    }
   ],
   "source": [
    "df"
   ]
  },
  {
   "cell_type": "code",
   "execution_count": null,
   "metadata": {
    "kernel": "R"
   },
   "outputs": [],
   "source": []
  }
 ],
 "metadata": {
  "kernelspec": {
   "display_name": "SoS",
   "language": "sos",
   "name": "sos"
  },
  "language_info": {
   "codemirror_mode": "sos",
   "file_extension": ".sos",
   "mimetype": "text/x-sos",
   "name": "sos",
   "nbconvert_exporter": "sos_notebook.converter.SoS_Exporter",
   "pygments_lexer": "sos"
  },
  "latex_envs": {
   "LaTeX_envs_menu_present": true,
   "autoclose": false,
   "autocomplete": true,
   "bibliofile": "biblio.bib",
   "cite_by": "apalike",
   "current_citInitial": 1,
   "eqLabelWithNumbers": true,
   "eqNumInitial": 1,
   "hotkeys": {
    "equation": "Ctrl-E",
    "itemize": "Ctrl-I"
   },
   "labels_anchors": false,
   "latex_user_defs": false,
   "report_style_numbering": false,
   "user_envs_cfg": false
  },
  "sos": {
   "kernels": [
    [
     "Python3",
     "python3",
     "Python3",
     "#FFD91A",
     {
      "name": "ipython",
      "version": 3
     }
    ],
    [
     "R",
     "ir",
     "R",
     "#DCDCDA",
     "r"
    ],
    [
     "SoS",
     "sos",
     "",
     "",
     "sos"
    ]
   ],
   "panel": {
    "displayed": true,
    "height": 0
   },
   "version": "0.20.6"
  },
  "varInspector": {
   "cols": {
    "lenName": 16,
    "lenType": 16,
    "lenVar": 40
   },
   "kernels_config": {
    "python": {
     "delete_cmd_postfix": "",
     "delete_cmd_prefix": "del ",
     "library": "var_list.py",
     "varRefreshCmd": "print(var_dic_list())"
    },
    "r": {
     "delete_cmd_postfix": ") ",
     "delete_cmd_prefix": "rm(",
     "library": "var_list.r",
     "varRefreshCmd": "cat(var_dic_list()) "
    }
   },
   "types_to_exclude": [
    "module",
    "function",
    "builtin_function_or_method",
    "instance",
    "_Feature"
   ],
   "window_display": false
  }
 },
 "nbformat": 4,
 "nbformat_minor": 2
}
