{
 "cells": [
  {
   "cell_type": "markdown",
   "metadata": {
    "kernel": "SoS"
   },
   "source": [
    "<h1><center> Домашна работа </center></h1>\n",
    "\n",
    "## Теорија\n",
    "Објаснување на формулите"
   ]
  },
  {
   "cell_type": "markdown",
   "metadata": {
    "kernel": "SoS"
   },
   "source": [
    "За да филтрираме слика во фреквенциски домен потребно е да ја помножиме сликата во фреквенциски домен со филтерот ( кернел ) кој е исто така во фреквенциски домен.\n",
    "<br><br>\n",
    "\n",
    "\\begin{equation}\n",
    "I_{f,filt} = HI_f\n",
    "\\end{equation}\n",
    "\n",
    "\n",
    "За таа цел потребно е да се вметне Octave функција која ќе креира “Band pass gaussian filter” во фреквенциски домен. Bandpass гаусовиот филтер во фреквенциски домен е дефиниран со равенкат\n"
   ]
  },
  {
   "cell_type": "markdown",
   "metadata": {
    "kernel": "SoS"
   },
   "source": [
    "\\begin{equation}\n",
    "H(i,j) = e ^{-\\frac{d(i,j)^2}{f^2_l}} \\left( 1 - e ^{-\\frac{d(i,j)^2}{f^2_l}} \\right)\\\n",
    "\\end{equation}\n"
   ]
  },
  {
   "cell_type": "markdown",
   "metadata": {
    "kernel": "SoS"
   },
   "source": [
    "Каде што $d(i,j)$ е евклидовото растојанието на даден пиксел од центарот на сликата, додека $f_h$ и $f_l$ се праговите на високите и ниските фреквенции кои сакаме да ги филтрираме. \n",
    "<br> <br>\n",
    "Конверзија на 2D сликата од просторен во фреквенциски домен се прави со користење на **Фуриева трансформација**.Фуриевата трансформација е дефинирана како: "
   ]
  },
  {
   "cell_type": "markdown",
   "metadata": {
    "kernel": "SoS"
   },
   "source": [
    "\\begin{equation*}\n",
    "F(u,v) = \\iint_{-\\infty}^{\\infty} f(x,y) e^{-i2\\pi(ux+vy)} dxdy\n",
    "\\end{equation*}"
   ]
  },
  {
   "cell_type": "markdown",
   "metadata": {
    "kernel": "SoS"
   },
   "source": [
    "А во дискретниот домен горната равенка може да биде преведена како "
   ]
  },
  {
   "cell_type": "markdown",
   "metadata": {
    "kernel": "SoS"
   },
   "source": [
    "\\begin{equation}\n",
    "F(u,v) = \\displaystyle\\sum_{m=-\\infty}^{\\infty} \\sum_{n=-\\infty}^{\\infty} f[m,n] \\cdot e^ {-i2\\pi(umx_0+vny_0)}\n",
    "\\end{equation}\n"
   ]
  },
  {
   "cell_type": "markdown",
   "metadata": {
    "ExecuteTime": {
     "end_time": "2019-12-08T11:16:40.223333Z",
     "start_time": "2019-12-08T11:16:40.126Z"
    },
    "kernel": "SoS"
   },
   "source": [
    "Конверзија на 2D сликата од фреквенциски во просторен домен се прави со користење на инверзна Фуриева трансформација. Инверзната Фуриева трансформација е дефинирана како: \n",
    "    "
   ]
  },
  {
   "cell_type": "markdown",
   "metadata": {
    "kernel": "SoS"
   },
   "source": [
    "\\begin{equation*}\n",
    "F(x,y) = \\iint_{-\\infty}^{\\infty} f(u,v) e^{i2\\pi(ux+vy)} dudv\n",
    "\\end{equation*}"
   ]
  },
  {
   "cell_type": "markdown",
   "metadata": {
    "kernel": "SoS"
   },
   "source": [
    "А во дискретниот домен горната равенка може да биде преведена како "
   ]
  },
  {
   "cell_type": "markdown",
   "metadata": {
    "kernel": "SoS"
   },
   "source": [
    "\\begin{equation}\n",
    "F(x,y) = \\displaystyle\\sum_{m=-\\infty}^{\\infty} \\sum_{n=-\\infty}^{\\infty} f[m,n] \\cdot e^ {i2\\pi(xmu_0+ynv_0)}\n",
    "\\end{equation}\n"
   ]
  }
 ],
 "metadata": {
  "kernelspec": {
   "display_name": "SoS",
   "language": "sos",
   "name": "sos"
  },
  "language_info": {
   "codemirror_mode": "sos",
   "file_extension": ".sos",
   "mimetype": "text/x-sos",
   "name": "sos",
   "nbconvert_exporter": "sos_notebook.converter.SoS_Exporter",
   "pygments_lexer": "sos"
  },
  "latex_envs": {
   "LaTeX_envs_menu_present": true,
   "autoclose": false,
   "autocomplete": true,
   "bibliofile": "biblio.bib",
   "cite_by": "apalike",
   "current_citInitial": 1,
   "eqLabelWithNumbers": true,
   "eqNumInitial": 1,
   "hotkeys": {
    "equation": "Ctrl-E",
    "itemize": "Ctrl-I"
   },
   "labels_anchors": false,
   "latex_user_defs": false,
   "report_style_numbering": false,
   "user_envs_cfg": false
  },
  "sos": {
   "kernels": [],
   "panel": {
    "displayed": true,
    "height": 0
   },
   "version": "0.20.6"
  },
  "varInspector": {
   "cols": {
    "lenName": 16,
    "lenType": 16,
    "lenVar": 40
   },
   "kernels_config": {
    "python": {
     "delete_cmd_postfix": "",
     "delete_cmd_prefix": "del ",
     "library": "var_list.py",
     "varRefreshCmd": "print(var_dic_list())"
    },
    "r": {
     "delete_cmd_postfix": ") ",
     "delete_cmd_prefix": "rm(",
     "library": "var_list.r",
     "varRefreshCmd": "cat(var_dic_list()) "
    }
   },
   "types_to_exclude": [
    "module",
    "function",
    "builtin_function_or_method",
    "instance",
    "_Feature"
   ],
   "window_display": false
  }
 },
 "nbformat": 4,
 "nbformat_minor": 2
}
